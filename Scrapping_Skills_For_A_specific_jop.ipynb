{
 "cells": [
  {
   "cell_type": "code",
   "execution_count": 11,
   "metadata": {},
   "outputs": [],
   "source": [
    "import time\n",
    "from selenium import webdriver\n",
    "import csv \n",
    "driver = webdriver.Chrome(r\"C:\\Users\\Ahmed-wafa\\Desktop\\AI pro\\Semester 1\\Other\\Data Representation\\Driver\\chromedriver.exe\")"
   ]
  },
  {
   "cell_type": "code",
   "execution_count": 12,
   "metadata": {},
   "outputs": [],
   "source": [
    "driver.get('https://wuzzuf.net/jobs/egypt')"
   ]
  },
  {
   "cell_type": "code",
   "execution_count": 13,
   "metadata": {},
   "outputs": [],
   "source": [
    "txt_search =  driver.find_element_by_css_selector(\"input.search-bar-input\")\n",
    "txt_search.send_keys(\"Machine Learning Engineer\")"
   ]
  },
  {
   "cell_type": "code",
   "execution_count": 14,
   "metadata": {},
   "outputs": [],
   "source": [
    "btn_search =  driver.find_element_by_css_selector(\"button[class='btn btn-primary search-btn']\")\n",
    "btn_search.click()"
   ]
  },
  {
   "cell_type": "code",
   "execution_count": 91,
   "metadata": {},
   "outputs": [],
   "source": [
    "lst_job_links = []"
   ]
  },
  {
   "cell_type": "code",
   "execution_count": 93,
   "metadata": {},
   "outputs": [
    {
     "name": "stdout",
     "output_type": "stream",
     "text": [
      "https://wuzzuf.net/jobs/p/tSVB0ppzOlQF-Software-Project-Manager-Caelum-Egypt-Giza-Egypt?o=31&l=sp&t=sj&a=Machine%20Learning%20Engineer|search-v3|hpb\n",
      "https://wuzzuf.net/jobs/p/kwyrqr9YCyWG-Fabrication-Engineer-Power-House-Egypt-Giza-Egypt?o=32&l=sp&t=sj&a=Machine%20Learning%20Engineer|search-v3|hpb\n",
      "https://wuzzuf.net/jobs/p/kpOggxeUMfHw-Sr-Data-Visualization-And-Support-Engineer-e-finance-Giza-Egypt?o=33&l=sp&t=sj&a=Machine%20Learning%20Engineer|search-v3|hpb\n",
      "https://wuzzuf.net/jobs/p/fZ0FfjebEutp-Senior-Scrum-Master-RDI-Giza-Egypt?o=34&l=sp&t=sj&a=Machine%20Learning%20Engineer|search-v3|hpb\n",
      "https://wuzzuf.net/jobs/p/KO6nnulkBKH8-IT-Digital-Solutions-Consultant-Section-Head-Raya-Customer-Experience-Giza-Egypt?o=35&l=sp&t=sj&a=Machine%20Learning%20Engineer|search-v3|hpb\n",
      "https://wuzzuf.net/jobs/p/8BhrFBUaaldb-Senior-Software-Developer-Focusing-on-PHP-TMentors-Cairo-Egypt?o=36&l=sp&t=sj&a=Machine%20Learning%20Engineer|search-v3|hpb\n",
      "https://wuzzuf.net/jobs/p/D4VPAQTuFGuE-Software-Engineer---Backend-Development-Python-Django-Synapse-Analytics-Cairo-Egypt?o=37&l=sp&t=sj&a=Machine%20Learning%20Engineer|search-v3|hpb\n",
      "https://wuzzuf.net/jobs/p/TrdIORVTZyZ4-Senior-Web-Developer---UI-UX-RISEUP-Endemag-for-Administrative-Skills-Development-Giza-Egypt?o=38&l=sp&t=sj&a=Machine%20Learning%20Engineer|search-v3|hpb\n",
      "https://wuzzuf.net/jobs/p/NgPqzCdeSWJs-Mechatronics-Engineer-Cairo-Egypt?o=39&l=sp&t=sj&a=Machine%20Learning%20Engineer|search-v3|hpb\n",
      "https://wuzzuf.net/jobs/p/f1HDJmQr40fP-Data-Management-and-Analytics-Consultant-Ejada-Cairo-Cairo-Egypt?o=40&l=sp&t=sj&a=Machine%20Learning%20Engineer|search-v3|hpb\n",
      "https://wuzzuf.net/jobs/p/mURgPajoWjsi-DevOps-Engineer-Synapse-Analytics-Cairo-Egypt?o=41&l=sp&t=sj&a=Machine%20Learning%20Engineer|search-v3|hpb\n",
      "https://wuzzuf.net/jobs/p/6fl02DT1f8v2-Data-Scientist-Mantrac-Cairo-Egypt?o=42&l=sp&t=sj&a=Machine%20Learning%20Engineer|search-v3|hpb\n",
      "https://wuzzuf.net/jobs/p/bCvI11dCWk9U-Senior-BI-Developer-LINK-Development-Cairo-Egypt?o=43&l=sp&t=sj&a=Machine%20Learning%20Engineer|search-v3|hpb\n",
      "https://wuzzuf.net/jobs/p/KpZSdA2oQips-Senior-Backend-Developer-Digified-Cairo-Egypt?o=44&l=sp&t=sj&a=Machine%20Learning%20Engineer|search-v3|hpb\n",
      "https://wuzzuf.net/jobs/p/tpbbMdof3bBR-Node-JS-Developer-Cairo-Egypt?o=16&l=sp&t=sj&a=Machine%20Learning%20Engineer|search-v3|hpb\n",
      "https://wuzzuf.net/jobs/p/MlwW2gXvWW5m-Junior-C-Developer-RDI-Giza-Egypt?o=17&l=sp&t=sj&a=Machine%20Learning%20Engineer|search-v3|hpb\n",
      "https://wuzzuf.net/jobs/p/hAJHV0i5JX2p-Data-Scientist-DevartLab-Cairo-Egypt?o=18&l=sp&t=sj&a=Machine%20Learning%20Engineer|search-v3|hpb\n",
      "https://wuzzuf.net/jobs/p/G1ESTXvn7T7P-Junior-Data-Scientist---Temporary-Role-Premier-Services-and-Recruitment-Giza-Egypt?o=19&l=sp&t=sj&a=Machine%20Learning%20Engineer|search-v3|hpb\n",
      "https://wuzzuf.net/jobs/p/z45TjwD7rfjL-Service-Engineer-EGYGRAFX-Giza-Egypt?o=20&l=sp&t=sj&a=Machine%20Learning%20Engineer|search-v3|hpb\n",
      "https://wuzzuf.net/jobs/p/UgEhV1YrTLh1-Full-Stack-Software-Engineer-NET-Core---Angular-JRM-for-Communications-Cairo-Egypt?o=21&l=sp&t=sj&a=Machine%20Learning%20Engineer|search-v3|hpb\n",
      "https://wuzzuf.net/jobs/p/GTX6DgMwg4J4-Pre-Sales-Engineer-RDI-Giza-Egypt?o=22&l=sp&t=sj&a=Machine%20Learning%20Engineer|search-v3|hpb\n",
      "https://wuzzuf.net/jobs/p/WXxCLndRitd2-Junior-Data-ScientistML-Engineer-TMentors-Cairo-Egypt?o=23&l=sp&t=sj&a=Machine%20Learning%20Engineer|search-v3|hpb\n",
      "https://wuzzuf.net/jobs/p/GYijA8d26jBg-Data-Engineer-DBTLookerBigQuery-360Imaging-Giza-Egypt?o=24&l=sp&t=sj&a=Machine%20Learning%20Engineer|search-v3|hpb\n",
      "https://wuzzuf.net/jobs/p/nJdH5LxZg7zh-Mid-Senior-Level-Front-End-Software-Developer-Remote-skora-tech-Doha-Qatar?o=25&l=sp&t=sj&a=Machine%20Learning%20Engineer|search-v3|hpb\n",
      "https://wuzzuf.net/jobs/p/O5vrr5q8CJ2R-Senior-RPA-Developer-Net-SmartTech-Systems-Cairo-Egypt?o=26&l=sp&t=sj&a=Machine%20Learning%20Engineer|search-v3|hpb\n",
      "https://wuzzuf.net/jobs/p/1FyNQwDPhAjR-Engineering-Manager---Ain-Sokhna-Suez-Egypt?o=27&l=sp&t=sj&a=Machine%20Learning%20Engineer|search-v3|hpb\n",
      "https://wuzzuf.net/jobs/p/p7dMbjMLmjfq-Quality-Control-Manager-Orthomed-E-Giza-Egypt?o=28&l=sp&t=sj&a=Machine%20Learning%20Engineer|search-v3|hpb\n",
      "https://wuzzuf.net/jobs/p/1HJTFikyve6F-Data-Engineer-Ashtar-app-Cairo-Egypt?o=29&l=sp&t=sj&a=Machine%20Learning%20Engineer|search-v3|hpb\n",
      "https://wuzzuf.net/jobs/p/1jReTsTyvpCJ-Senior-Python-Developer-FlairsTech-Cairo-Egypt?o=30&l=sp&t=sj&a=Machine%20Learning%20Engineer|search-v3|hpb\n",
      "https://wuzzuf.net/jobs/p/tSVB0ppzOlQF-Software-Project-Manager-Caelum-Egypt-Giza-Egypt?o=31&l=sp&t=sj&a=Machine%20Learning%20Engineer|search-v3|hpb\n",
      "https://wuzzuf.net/jobs/p/kwyrqr9YCyWG-Fabrication-Engineer-Power-House-Egypt-Giza-Egypt?o=32&l=sp&t=sj&a=Machine%20Learning%20Engineer|search-v3|hpb\n",
      "https://wuzzuf.net/jobs/p/kpOggxeUMfHw-Sr-Data-Visualization-And-Support-Engineer-e-finance-Giza-Egypt?o=33&l=sp&t=sj&a=Machine%20Learning%20Engineer|search-v3|hpb\n",
      "https://wuzzuf.net/jobs/p/fZ0FfjebEutp-Senior-Scrum-Master-RDI-Giza-Egypt?o=34&l=sp&t=sj&a=Machine%20Learning%20Engineer|search-v3|hpb\n",
      "https://wuzzuf.net/jobs/p/KO6nnulkBKH8-IT-Digital-Solutions-Consultant-Section-Head-Raya-Customer-Experience-Giza-Egypt?o=35&l=sp&t=sj&a=Machine%20Learning%20Engineer|search-v3|hpb\n",
      "https://wuzzuf.net/jobs/p/8BhrFBUaaldb-Senior-Software-Developer-Focusing-on-PHP-TMentors-Cairo-Egypt?o=36&l=sp&t=sj&a=Machine%20Learning%20Engineer|search-v3|hpb\n",
      "https://wuzzuf.net/jobs/p/D4VPAQTuFGuE-Software-Engineer---Backend-Development-Python-Django-Synapse-Analytics-Cairo-Egypt?o=37&l=sp&t=sj&a=Machine%20Learning%20Engineer|search-v3|hpb\n",
      "https://wuzzuf.net/jobs/p/TrdIORVTZyZ4-Senior-Web-Developer---UI-UX-RISEUP-Endemag-for-Administrative-Skills-Development-Giza-Egypt?o=38&l=sp&t=sj&a=Machine%20Learning%20Engineer|search-v3|hpb\n",
      "https://wuzzuf.net/jobs/p/NgPqzCdeSWJs-Mechatronics-Engineer-Cairo-Egypt?o=39&l=sp&t=sj&a=Machine%20Learning%20Engineer|search-v3|hpb\n",
      "https://wuzzuf.net/jobs/p/f1HDJmQr40fP-Data-Management-and-Analytics-Consultant-Ejada-Cairo-Cairo-Egypt?o=40&l=sp&t=sj&a=Machine%20Learning%20Engineer|search-v3|hpb\n",
      "https://wuzzuf.net/jobs/p/mURgPajoWjsi-DevOps-Engineer-Synapse-Analytics-Cairo-Egypt?o=41&l=sp&t=sj&a=Machine%20Learning%20Engineer|search-v3|hpb\n",
      "https://wuzzuf.net/jobs/p/6fl02DT1f8v2-Data-Scientist-Mantrac-Cairo-Egypt?o=42&l=sp&t=sj&a=Machine%20Learning%20Engineer|search-v3|hpb\n",
      "https://wuzzuf.net/jobs/p/bCvI11dCWk9U-Senior-BI-Developer-LINK-Development-Cairo-Egypt?o=43&l=sp&t=sj&a=Machine%20Learning%20Engineer|search-v3|hpb\n",
      "https://wuzzuf.net/jobs/p/KpZSdA2oQips-Senior-Backend-Developer-Digified-Cairo-Egypt?o=44&l=sp&t=sj&a=Machine%20Learning%20Engineer|search-v3|hpb\n",
      "we finished\n"
     ]
    }
   ],
   "source": [
    "flag = True\n",
    "is_first_page = True\n",
    "while flag:\n",
    "    a_job_link =  driver.find_elements_by_xpath(\"//*[@id='app']/div/div[2]/div/div/div[2]/div/div/div/h2/a\")\n",
    "    for i in a_job_link:\n",
    "        lst_job_links.append(i.get_attribute(\"href\"))\n",
    "        print(i.get_attribute(\"href\"))\n",
    "    time.sleep(2)\n",
    "    lst_next_prev = driver.find_elements_by_css_selector(\"button[class='css-zye1os ezfki8j0']\")\n",
    "    lst_next_prev[-1].click()\n",
    "    time.sleep(2)\n",
    "    if is_first_page == True:\n",
    "        is_first_page = False\n",
    "        continue\n",
    "    if len(lst_next_prev) < 2:\n",
    "        flag = False\n",
    "        print(\"we finished\")"
   ]
  },
  {
   "cell_type": "code",
   "execution_count": 99,
   "metadata": {},
   "outputs": [],
   "source": [
    "all_skills_for_the_job = []"
   ]
  },
  {
   "cell_type": "code",
   "execution_count": 100,
   "metadata": {},
   "outputs": [],
   "source": [
    "for link in lst_job_links:\n",
    "    driver.get(link)\n",
    "    Skills = driver.find_element_by_css_selector(\"div[class='css-s2o0yh']\").find_elements_by_class_name(\"css-158icaa\")\n",
    "    for i in Skills:\n",
    "        all_skills_for_the_job.append(i.text)"
   ]
  },
  {
   "cell_type": "code",
   "execution_count": 102,
   "metadata": {},
   "outputs": [
    {
     "data": {
      "text/plain": [
       "677"
      ]
     },
     "execution_count": 102,
     "metadata": {},
     "output_type": "execute_result"
    }
   ],
   "source": [
    "len(all_skills_for_the_job)"
   ]
  },
  {
   "cell_type": "code",
   "execution_count": 144,
   "metadata": {},
   "outputs": [],
   "source": [
    "import pandas as pd\n",
    "import seaborn as sns\n",
    "sns.set_style(\"dark\")\n",
    "sns.set(rc={'figure.figsize':(11.7,8.27)})"
   ]
  },
  {
   "cell_type": "code",
   "execution_count": 126,
   "metadata": {},
   "outputs": [],
   "source": [
    "df = pd.DataFrame(all_skills_for_the_job, columns=[\"skills\"])"
   ]
  },
  {
   "cell_type": "code",
   "execution_count": 127,
   "metadata": {},
   "outputs": [
    {
     "data": {
      "text/html": [
       "<div>\n",
       "<style scoped>\n",
       "    .dataframe tbody tr th:only-of-type {\n",
       "        vertical-align: middle;\n",
       "    }\n",
       "\n",
       "    .dataframe tbody tr th {\n",
       "        vertical-align: top;\n",
       "    }\n",
       "\n",
       "    .dataframe thead th {\n",
       "        text-align: right;\n",
       "    }\n",
       "</style>\n",
       "<table border=\"1\" class=\"dataframe\">\n",
       "  <thead>\n",
       "    <tr style=\"text-align: right;\">\n",
       "      <th></th>\n",
       "      <th>skills</th>\n",
       "    </tr>\n",
       "  </thead>\n",
       "  <tbody>\n",
       "    <tr>\n",
       "      <th>0</th>\n",
       "      <td>Computer Science</td>\n",
       "    </tr>\n",
       "    <tr>\n",
       "      <th>1</th>\n",
       "      <td>Agile</td>\n",
       "    </tr>\n",
       "    <tr>\n",
       "      <th>2</th>\n",
       "      <td>Engineering</td>\n",
       "    </tr>\n",
       "    <tr>\n",
       "      <th>3</th>\n",
       "      <td>Information Technology (IT)</td>\n",
       "    </tr>\n",
       "    <tr>\n",
       "      <th>4</th>\n",
       "      <td>Management</td>\n",
       "    </tr>\n",
       "  </tbody>\n",
       "</table>\n",
       "</div>"
      ],
      "text/plain": [
       "                        skills\n",
       "0             Computer Science\n",
       "1                        Agile\n",
       "2                  Engineering\n",
       "3  Information Technology (IT)\n",
       "4                   Management"
      ]
     },
     "execution_count": 127,
     "metadata": {},
     "output_type": "execute_result"
    }
   ],
   "source": [
    "df.head()"
   ]
  },
  {
   "cell_type": "code",
   "execution_count": 147,
   "metadata": {},
   "outputs": [],
   "source": [
    "df.to_csv(\"SkillsForML.csv\",index= False)"
   ]
  },
  {
   "cell_type": "code",
   "execution_count": 136,
   "metadata": {},
   "outputs": [],
   "source": [
    "df_plotting = pd.DataFrame(df.groupby(\"skills\").size().sort_values(ascending =False).head(20))"
   ]
  },
  {
   "cell_type": "code",
   "execution_count": 142,
   "metadata": {},
   "outputs": [],
   "source": [
    "df_plotting = df_plotting.reset_index()"
   ]
  },
  {
   "cell_type": "code",
   "execution_count": 145,
   "metadata": {},
   "outputs": [
    {
     "data": {
      "text/plain": [
       "<AxesSubplot:xlabel='0', ylabel='skills'>"
      ]
     },
     "execution_count": 145,
     "metadata": {},
     "output_type": "execute_result"
    },
    {
     "data": {
      "image/png": "[encoded data removed]",
      "text/plain": [
       "<Figure size 842.4x595.44 with 1 Axes>"
      ]
     },
     "metadata": {},
     "output_type": "display_data"
    }
   ],
   "source": [
    "sns.barplot(data=df_plotting, y=\"skills\", x = 0)"
   ]
  }
 ],
 "metadata": {
  "kernelspec": {
   "display_name": "Python 3 (ipykernel)",
   "language": "python",
   "name": "python3"
  },
  "language_info": {
   "codemirror_mode": {
    "name": "ipython",
    "version": 3
   },
   "file_extension": ".py",
   "mimetype": "text/x-python",
   "name": "python",
   "nbconvert_exporter": "python",
   "pygments_lexer": "ipython3",
   "version": "3.8.5"
  }
 },
 "nbformat": 4,
 "nbformat_minor": 4
}
